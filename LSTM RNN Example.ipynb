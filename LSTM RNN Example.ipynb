{
 "cells": [
  {
   "cell_type": "code",
   "execution_count": 1,
   "metadata": {},
   "outputs": [],
   "source": [
    "'''\n",
    "A Recurrent Neural Network (LSTM) implementation example using TensorFlow library.\n",
    "Learn to classify Morse code sequences using a recurrent neural network\n",
    "\n",
    "Adapted by: \n",
    "    Mauri Niininen (AG1LE) for Morse code learning\n",
    "\n",
    "From:\n",
    "Dynamic Recurrent Neural Network by Aymeric Damien\n",
    "TensorFlow implementation of a Recurrent Neural Network (LSTM) that performs dynamic computation over sequences with variable length.\n",
    "See: https://github.com/aymericdamien/TensorFlow-Examples/blob/master/notebooks/3_NeuralNetworks/dynamic_rnn.ipynb\n",
    "'''\n",
    "from __future__ import print_function\n",
    "import matplotlib.pyplot as plt\n",
    "%matplotlib inline\n",
    "\n",
    "import tensorflow as tf\n",
    "import random\n",
    "from numpy.random import normal\n",
    "from morse import Morse\n",
    "\n",
    "NOISE = False"
   ]
  },
  {
   "cell_type": "code",
   "execution_count": 2,
   "metadata": {},
   "outputs": [],
   "source": [
    "# ==========\n",
    "#   MODEL\n",
    "# ==========\n",
    "\n",
    "\n",
    "# MODEL Parameters\n",
    "learning_rate = 0.01\n",
    "training_steps = 5000\n",
    "batch_size = 512\n",
    "display_step = 100\n",
    "n_samples = 10000 \n",
    "\n",
    "# NETWORK  Parameters\n",
    "seq_max_len = 32 # Sequence max length\n",
    "n_hidden = 64    # Hidden layer num of features  \n",
    "n_classes = 60   # Each morse character is a separate class\n",
    "\n",
    "# Create a training set from 'strings.txt' file \n",
    "trainset = Morse(n_samples, max_seq_len=seq_max_len,filename='strings.txt')\n",
    "n_classes = trainset.number_of_classes() # each morse character is a class\n",
    "\n",
    "\n",
    "if (NOISE):  # Add gaussian noise to training data\n",
    "    trainset.data = trainset.data +  normal(0.,0.2, seq_max_len*n_samples)\\\n",
    "                    .reshape(n_samples,seq_max_len,1)\n",
    "\n",
    "# Create a testing set from 'arrl2.txt' file \n",
    "testset = Morse(n_samples, max_seq_len=seq_max_len,filename='arrl2.txt')\n",
    "\n",
    "# tf Graph input\n",
    "x = tf.placeholder(\"float\", [None, seq_max_len, 1])\n",
    "y = tf.placeholder(\"float\", [None, n_classes])\n",
    "\n",
    "# A placeholder for indicating each sequence length\n",
    "seqlen = tf.placeholder(tf.int32, [None])\n",
    "\n",
    "# Define weights\n",
    "weights = {\n",
    "    'out': tf.Variable(tf.random_normal([n_hidden, n_classes]))\n",
    "}\n",
    "biases = {\n",
    "    'out': tf.Variable(tf.random_normal([n_classes]))\n",
    "}"
   ]
  },
  {
   "cell_type": "code",
   "execution_count": 3,
   "metadata": {},
   "outputs": [],
   "source": [
    "def dynamicRNN(x, seqlen, weights, biases):\n",
    "\n",
    "    # Prepare data shape to match `rnn` function requirements\n",
    "    # Current data input shape: (batch_size, n_steps, n_input)\n",
    "    # Required shape: 'n_steps' tensors list of shape (batch_size, n_input)\n",
    "    \n",
    "    # Unstack to get a list of 'n_steps' tensors of shape (batch_size, n_input)\n",
    "    x = tf.unstack(x, seq_max_len, 1)\n",
    "\n",
    "    # Define a lstm cell with tensorflow\n",
    "    lstm_cell = tf.contrib.rnn.BasicLSTMCell(n_hidden)\n",
    "\n",
    "    # Get lstm cell output, providing 'sequence_length' will perform dynamic\n",
    "    # calculation.\n",
    "    outputs, states = tf.contrib.rnn.static_rnn(lstm_cell, x, dtype=tf.float32,\n",
    "                                sequence_length=seqlen)\n",
    "\n",
    "    # When performing dynamic calculation, we must retrieve the last\n",
    "    # dynamically computed output, i.e., if a sequence length is 10, we need\n",
    "    # to retrieve the 10th output.\n",
    "    # However TensorFlow doesn't support advanced indexing yet, so we build\n",
    "    # a custom op that for each sample in batch size, get its length and\n",
    "    # get the corresponding relevant output.\n",
    "\n",
    "    # 'outputs' is a list of output at every timestep, we pack them in a Tensor\n",
    "    # and change back dimension to [batch_size, n_step, n_input]\n",
    "    outputs = tf.stack(outputs)\n",
    "    outputs = tf.transpose(outputs, [1, 0, 2])\n",
    "\n",
    "    # Hack to build the indexing and retrieve the right output.\n",
    "    batch_size = tf.shape(outputs)[0]\n",
    "    # Start indices for each sample\n",
    "    index = tf.range(0, batch_size) * seq_max_len + (seqlen - 1)\n",
    "    # Indexing\n",
    "    outputs = tf.gather(tf.reshape(outputs, [-1, n_hidden]), index)\n",
    "\n",
    "    # Linear activation, using outputs computed above\n",
    "    return tf.matmul(outputs, weights['out']) + biases['out']"
   ]
  },
  {
   "cell_type": "code",
   "execution_count": 4,
   "metadata": {
    "scrolled": false
   },
   "outputs": [
    {
     "name": "stderr",
     "output_type": "stream",
     "text": [
      "/Users/mauri/Projects/LSTM_morse/venv/lib/python2.7/site-packages/tensorflow/python/ops/gradients_impl.py:96: UserWarning: Converting sparse IndexedSlices to a dense Tensor of unknown shape. This may consume a large amount of memory.\n",
      "  \"Converting sparse IndexedSlices to a dense Tensor of unknown shape. \"\n"
     ]
    }
   ],
   "source": [
    "pred = dynamicRNN(x, seqlen, weights, biases)\n",
    "\n",
    "# Define loss and optimizer\n",
    "cost = tf.reduce_mean(tf.nn.softmax_cross_entropy_with_logits(logits=pred, labels=y))\n",
    "optimizer = tf.train.GradientDescentOptimizer(learning_rate=learning_rate).minimize(cost)\n",
    "\n",
    "# Evaluate model\n",
    "correct_pred = tf.equal(tf.argmax(pred,1), tf.argmax(y,1))\n",
    "accuracy = tf.reduce_mean(tf.cast(correct_pred, tf.float32))\n",
    "\n",
    "# Initialize the variables (i.e. assign their default value)\n",
    "init = tf.global_variables_initializer()\n"
   ]
  },
  {
   "cell_type": "code",
   "execution_count": 5,
   "metadata": {},
   "outputs": [
    {
     "name": "stdout",
     "output_type": "stream",
     "text": [
      "Launching training session\n",
      "Step 1, Minibatch Loss= 4.544979, Training Accuracy= 0.00781, Time=3.8 secs\n",
      "Step 100, Minibatch Loss= 3.860989, Training Accuracy= 0.04412, Time=12.5 secs\n",
      "Step 200, Minibatch Loss= 3.643906, Training Accuracy= 0.09191, Time=21.4 secs\n",
      "Step 300, Minibatch Loss= 3.496075, Training Accuracy= 0.09191, Time=30.3 secs\n",
      "Step 400, Minibatch Loss= 3.386018, Training Accuracy= 0.11029, Time=39.5 secs\n",
      "Step 500, Minibatch Loss= 3.290379, Training Accuracy= 0.11029, Time=48.6 secs\n",
      "Step 600, Minibatch Loss= 3.194228, Training Accuracy= 0.11029, Time=57.9 secs\n",
      "Step 700, Minibatch Loss= 3.087100, Training Accuracy= 0.20588, Time=67.1 secs\n",
      "Step 800, Minibatch Loss= 2.958046, Training Accuracy= 0.17279, Time=76.5 secs\n",
      "Step 900, Minibatch Loss= 2.804741, Training Accuracy= 0.21324, Time=85.7 secs\n",
      "Step 1000, Minibatch Loss= 2.647581, Training Accuracy= 0.25368, Time=94.8 secs\n",
      "Step 1100, Minibatch Loss= 2.498123, Training Accuracy= 0.22794, Time=105.5 secs\n",
      "Step 1200, Minibatch Loss= 2.348460, Training Accuracy= 0.27206, Time=114.7 secs\n",
      "Step 1300, Minibatch Loss= 2.187388, Training Accuracy= 0.43382, Time=123.6 secs\n",
      "Step 1400, Minibatch Loss= 2.069863, Training Accuracy= 0.37500, Time=132.5 secs\n",
      "Step 1500, Minibatch Loss= 1.894268, Training Accuracy= 0.45956, Time=141.4 secs\n",
      "Step 1600, Minibatch Loss= 1.707557, Training Accuracy= 0.53676, Time=150.3 secs\n",
      "Step 1700, Minibatch Loss= 1.520256, Training Accuracy= 0.63603, Time=159.2 secs\n",
      "Step 1800, Minibatch Loss= 1.390921, Training Accuracy= 0.68382, Time=168.0 secs\n",
      "Step 1900, Minibatch Loss= 1.204351, Training Accuracy= 0.80515, Time=177.0 secs\n",
      "Step 2000, Minibatch Loss= 1.578803, Training Accuracy= 0.52206, Time=186.1 secs\n",
      "Step 2100, Minibatch Loss= 1.225210, Training Accuracy= 0.62132, Time=195.0 secs\n",
      "Step 2200, Minibatch Loss= 0.915016, Training Accuracy= 0.88971, Time=204.1 secs\n",
      "Step 2300, Minibatch Loss= 0.891809, Training Accuracy= 0.84191, Time=212.9 secs\n",
      "Step 2400, Minibatch Loss= 0.670721, Training Accuracy= 0.93015, Time=221.8 secs\n",
      "Step 2500, Minibatch Loss= 1.100522, Training Accuracy= 0.61397, Time=230.8 secs\n",
      "Step 2600, Minibatch Loss= 0.556402, Training Accuracy= 0.84559, Time=239.6 secs\n",
      "Step 2700, Minibatch Loss= 0.417382, Training Accuracy= 0.95588, Time=249.0 secs\n",
      "Step 2800, Minibatch Loss= 0.365189, Training Accuracy= 0.95588, Time=258.2 secs\n",
      "Step 2900, Minibatch Loss= 0.316528, Training Accuracy= 0.95588, Time=267.2 secs\n",
      "Step 3000, Minibatch Loss= 0.276694, Training Accuracy= 0.96324, Time=276.3 secs\n",
      "Step 3100, Minibatch Loss= 0.238879, Training Accuracy= 0.98529, Time=285.2 secs\n",
      "Step 3200, Minibatch Loss= 0.213611, Training Accuracy= 0.98162, Time=294.3 secs\n",
      "Step 3300, Minibatch Loss= 0.181401, Training Accuracy= 0.99632, Time=304.3 secs\n",
      "Step 3400, Minibatch Loss= 0.171264, Training Accuracy= 0.99632, Time=315.0 secs\n",
      "Step 3500, Minibatch Loss= 0.141968, Training Accuracy= 0.99632, Time=324.7 secs\n",
      "Step 3600, Minibatch Loss= 0.123454, Training Accuracy= 0.99632, Time=333.9 secs\n",
      "Step 3700, Minibatch Loss= 0.109894, Training Accuracy= 0.99632, Time=343.4 secs\n",
      "Step 3800, Minibatch Loss= 0.098757, Training Accuracy= 0.99632, Time=352.2 secs\n",
      "Step 3900, Minibatch Loss= 0.089728, Training Accuracy= 1.00000, Time=361.2 secs\n",
      "Step 4000, Minibatch Loss= 0.082285, Training Accuracy= 1.00000, Time=370.0 secs\n",
      "Step 4100, Minibatch Loss= 0.076024, Training Accuracy= 1.00000, Time=379.0 secs\n",
      "Step 4200, Minibatch Loss= 0.070666, Training Accuracy= 1.00000, Time=387.9 secs\n",
      "Step 4300, Minibatch Loss= 0.066016, Training Accuracy= 1.00000, Time=396.7 secs\n",
      "Step 4400, Minibatch Loss= 0.061932, Training Accuracy= 1.00000, Time=405.9 secs\n",
      "Step 4500, Minibatch Loss= 0.058310, Training Accuracy= 1.00000, Time=415.2 secs\n",
      "Step 4600, Minibatch Loss= 0.055070, Training Accuracy= 1.00000, Time=425.3 secs\n",
      "Step 4700, Minibatch Loss= 0.052153, Training Accuracy= 1.00000, Time=435.3 secs\n",
      "Step 4800, Minibatch Loss= 0.049508, Training Accuracy= 1.00000, Time=444.2 secs\n",
      "Step 4900, Minibatch Loss= 0.047100, Training Accuracy= 1.00000, Time=453.4 secs\n",
      "Step 5000, Minibatch Loss= 0.044894, Training Accuracy= 1.00000, Time=463.9 secs\n",
      "Optimization Finished!\n",
      "Training duration: 463.9 secs\n",
      "Testing Accuracy: 0.999\n",
      "Model saved in file: /tmp/morse_model.ckpt\n"
     ]
    }
   ],
   "source": [
    "# ==================\n",
    "#   TRAINING SESSION\n",
    "# ==================\n",
    "import time\n",
    "\n",
    "\n",
    "test_data = testset.data\n",
    "test_label = testset.labels\n",
    "test_seqlen = testset.seqlen\n",
    "t_acc = []\n",
    "t_loss = []\n",
    "\n",
    "# Add ops to save and restore all the variables.\n",
    "saver = tf.train.Saver()\n",
    "\n",
    "\n",
    "# Launch the training session\n",
    "print (\"Launching training session\")\n",
    "start = time.time()\n",
    "\n",
    "# Start training\n",
    "with tf.Session() as sess:\n",
    "\n",
    "    # Run the initializer\n",
    "    sess.run(init)\n",
    "\n",
    "    for step in range(1, training_steps+1):\n",
    "        batch_x, batch_y, batch_seqlen = trainset.next(batch_size)\n",
    "        \n",
    "        # Run optimization op (backprop)\n",
    "        sess.run(optimizer, feed_dict={x: batch_x, y: batch_y,seqlen: batch_seqlen})\n",
    "        if step % display_step == 0 or step == 1:\n",
    "            # Calculate batch accuracy & loss\n",
    "            acc, loss = sess.run([accuracy, cost], feed_dict={x: batch_x, y: batch_y,\n",
    "                                                seqlen: batch_seqlen})\n",
    "            t_acc.append(acc)\n",
    "            t_loss.append(loss)\n",
    "            \n",
    "            print(\"Step \" + str(step) + \", Minibatch Loss= \" + \\\n",
    "                  \"{:.6f}\".format(loss) + \", Training Accuracy= \" + \\\n",
    "                  \"{:.5f}\".format(acc) + \", Time=\" +\\\n",
    "                  \"{:.1f} secs\".format(time.time()-start))\n",
    "\n",
    "    print(\"Optimization Finished!\")\n",
    "    stop = time.time()\n",
    "    print (\"Training duration:\",\"{:.1f} secs\".format(stop-start))\n",
    "    \n",
    "    # Calculate accuracy\n",
    "    ac = sess.run(accuracy, feed_dict={x: test_data, y: test_label, seqlen: test_seqlen})    \n",
    "    print(\"Testing Accuracy:\", ac)\n",
    "        \n",
    "\n",
    "    # Save the variables to disk.\n",
    "    save_path = saver.save(sess, \"/tmp/morse_model.ckpt\")\n",
    "    print(\"Model saved in file: %s\" % save_path)\n",
    "\n"
   ]
  },
  {
   "cell_type": "code",
   "execution_count": 6,
   "metadata": {},
   "outputs": [
    {
     "data": {
      "text/plain": [
       "<matplotlib.figure.Figure at 0x11b8e2450>"
      ]
     },
     "metadata": {},
     "output_type": "display_data"
    },
    {
     "data": {
      "image/png": "[encoded data removed]",
      "text/plain": [
       "<matplotlib.figure.Figure at 0x11b8dd710>"
      ]
     },
     "metadata": {},
     "output_type": "display_data"
    }
   ],
   "source": [
    "# ===========================\n",
    "#   PLOT ACCURACY/LOSS CURVES\n",
    "# ===========================\n",
    "\n",
    "\n",
    "plt.figure(figsize=(12,6))\n",
    "fig, ax1 = plt.subplots()\n",
    "ax1.plot(t_acc, 'b')\n",
    "ax1.set_xlabel('# of minibatches')\n",
    "ax1.set_ylabel('Accuracy %', color='b')\n",
    "for tl in ax1.get_yticklabels():\n",
    "    tl.set_color('b')\n",
    "    \n",
    "ax2 = ax1.twinx()\n",
    "ax2.plot(t_loss, 'r')\n",
    "ax2.set_ylabel('Loss', color='r')\n",
    "for tl in ax2.get_yticklabels():\n",
    "    tl.set_color('r')\n",
    "plt.show()"
   ]
  },
  {
   "cell_type": "code",
   "execution_count": 7,
   "metadata": {},
   "outputs": [
    {
     "name": "stdout",
     "output_type": "stream",
     "text": [
      "INFO:tensorflow:Restoring parameters from /tmp/morse_model.ckpt\n",
      "Model restored.\n",
      "NOW 20 WPM TEXT IS FROM JANUARY 2015 QST  PAGE 56 SITUATIONS WHERE I COULD HAVE BROUGHT A DIRECTIONAL ANTENNA WITH ME, SUCHAS A SMALL YAGI FOR HF OR VHF.  IF ITS LIGHT ENOUGH, ROTATING A YAGI CAN BEDONE WITH THE ARMSTRONG METHOD, BUT IT IS OFTEN VERY INCONVENIENT TO DO SO.PERHAPS YOU DONT WANT TO LEAVE THE RIG BEHIND WHILE YOU GO OUTSIDE TOADJUST THE ANTENNA TOWARD THAT WEAK STATION, OR PERHAPS YOURE IN A TENT ANDITS DARK OUT THERE.  A BATTERY POWERED ROTATOR PORTABLE ROTATION HASDEVELOPED A SOLUTION TO THESE PROBLEMS.  THE 12PR1A IS AN ANTENNA ROTATORFIGURE 6 THAT FUNCTIONS ON 9 TO 14 V DC.  AT 12 V, THE UNIT IS SPECIFIED TODRAW 40 MA IDLE CURRENT AND 200 MA OR LESS WHILE THE ANTENNA IS TURNING.IT CAN BE POWERED FROM THE BATTERY USED TO RUN A TYPICAL PORTABLE STATION.WHILE THE CONTROL HEAD FIGURE 7 WILL FUNCTION WITH AS LITTLE AS 6 V, AEND OF 20 WPM TEXT QST DE AG1LE  NOW 20 WPM     TEXT IS FROM JANUARY 2014 QST  PAGE 46TRANSMITTER MANUALS SPECIFICATIONS.  BUILD A 1 2 VOLTAGE TRANSFORMER SINCETHE OUTPUT OF THE BUFFER AMPLIFIER SUPPLIES ONLY 5 V P P, I CHOSE TO USE A1 2 VOLTAGE TRANSFORMER TO BOOST THE BUFFER AMPLIFIER OUTPUT AND TO RAISEITS IMPEDANCE LEVEL.  A 1 2 VOLTAGE TRANSFORMER TRANSFORMS THE IMPEDANCE BYA 1 4 RATIO.  I WOUND MY TRANSFORMER ON AN AMIDON ASSOCIATES FT 50A 61FERRITE TOROIDAL CORE.  I DOUBLED UP THE WIRE AND WOUND 1 1 BIFILAR TURNSUSING 24 AWG ENAMELED MAGNET WIRE, THEN CONNECTED THE WIRES ACCORDING TOTHE SCHEMATIC IN FIGURE 5.  I THEN ADDED A DC ISOLATING 0R01 UF CERAMICDISC CAPACITOR IN SERIES WITH OUTPUT SEE FIGURE 6.  I ADDED COAXIAL CABLELEADS AND MOUNTED MY TRANSFORMER ASSEMBLY IN A SMALL PILL BOTTLE.  THETRANSFORMER SHOULD BE PLACED AS CLOSE TO THE TRANSMITTER INPUT AS POSSIBLE.  END OF 20 WPM TEXT    QST DE W1AW    NOW 20 WPM     TEXT IS FROM JANUARY 2014 QST  PAGE 84COORDINATOR, SENT OUT AN E MAIL TO ALL GARC MEMBERS, ALUMNI, FACULTY,STAFF, AND FRIENDS TO SPREAD THE WORD AND ASK THAT THEY GIVE W4DFU A CALLDURING A WINDOW FOR A VHF SIMPLEX CONTACT.  MUCH TO EVERYONES SURPRISE,W4DFU HAD A SMALL 2 METER PILEUP.  EVERYONE IN THE STATION WAS EXCITED ANDTHE ATMOSPHERE TURNED TO ONE OF CELEBRATION.  THE EXPERIMENT WAS A SUCCESSAND GARC IS PLANNING TO EXPAND FOR FUTURE SCR WORK.  YOU CAN FIND OUT MOREABOUT GARC AT HTTPXXGATORRADIO.  ORG.  TEAMING UP WITH THE LOCAL CLUB GLENNRAYMOND SCHOOL AMATEUR RADIO CLUB, W9GRS, OF WATSEKA, ILLINOIS, ENTEREDTHEIR FIRST SCHOOL CLUB ROUNDUP IN OCTOBER 2008 AFTER BEING AWARDED AN ETPGRANT FROM THE ARRL.  W9GRS GOT STARTED WITH A STATION DUE TO THEIR CLOSERELATIONSHIP WITH THE LOCAL AMATEUR RADIO CLUB, THE IROQUOIS COUNTY AMATEUR  END OF 20 WPM TEXT    QST DE W1AW    NOW 20 WPM     TEXT IS FROM JULY 2014 QST  PAGE 52AUDIO COMING FROM YOU VIA THE BLUETOOTH CONNECTION IN OTHER WORDS, WHENEVERYOU SPEAK OR WHEN THE DIGITAL MODE SOFTWARE ON YOUR COMPUTER STARTS SENDINGTRANSMIT AUDIO.  BEFORE FIDDLING WITH THESE KNOBS, HOWEVER, YOU MUST FIRSTESTABLISH THE BLUETOOTH CONNECTION BY PAIRING THE RIGBLASTER BLUE WITHWHATEVER BLUETOOTH DEVICE YOU ARE USING WHETHER THAT IS A HEADSET, LAPTOPOR TABLET.  WITHOUT GOING INTO GREAT DETAIL THE RIGBLASTER MANUAL OFFERSSTEP BY STEP INSTRUCTIONS, IT IS ESSENTIALLY A MATTER OF PRESSING WHATEVERBUTTONS ARE REQUIRED TO PUT YOUR DEVICE INTO DISCOVERY MODE.  YOU DO THESAME TO THE RIGBLASTER BLUE.  IT MAY TAKE AS LONG AS 60 SECONDS, BUTEVENTUALLY THE INTERFACE AND YOUR DEVICE FIND EACH OTHER, EXCHANGEGREETINGS AND STRIKE UP A CONVERSATION SO TO SPEAK.  IN MY FIRST TEST I  END OF 20 WPM TEXT    QST DE W1AW    NOW 20 WPM    TEXT IS FROM JULY 2014 QST  PAGE 63CONTROL.  ONCE YOUVE FOUND THIS, YOU REALLY DONT NEED TO PLAY WITH THEPHASING.  NOW TUNE IN SOME REAL CW SIGNALS, USING YOUR BANDSPREAD, AND NOTEHOW SHARP AND SELECTIVE IT IS.  UNLESS YOURE A SAFECRACKER, ITS EASY TOCOMPLETELY SCOOT BY THE SWEET SPOT AND NEVER REALIZE THE ADVANTAGE OF THECRYSTAL FILTER.  ONCE YOU DO FIND THE SWEET SPOT, ITS BEST TO ADJUST THEBFO AFTERWARD FOR A COMFORTABLE PITCH.  I REGRET THAT BFO PITCH IS NOLONGER A FRONT PANEL CONTROL ON MODERN RADIOS.  ON MOST VINTAGE RECEIVERS,ITS HELPFUL TO RUN THE AUDIO GAIN WIDE OPEN AND USE THE RF GAIN AS A VOLUMECONTROL, ESPECIALLY ON CW.  ALTHOUGH NOT DIRECTLY RELATED TO THE ISSUE, ITSHOULD BE NOTED THAT MOST EARLY CW RECEIVERS HAD VERY WEAK BFOS, WHICH ISNEVER AN ADVANTAGE, CONTRARY TO SOME ADVICE OF THE TIME.  THIS RESULTED IN  END OF 20 WPM TEXT    QST DE W1AW    NOW 20 WPM     TEXT IS FROM JULY 2014 QST  PAGE 34DBXS UNIT TO 7 DBXS UNIT.  BE AWARE THAT YOU CANT USE ANY OLD OPERATIONALAMPLIFIER BECAUSE THE INPUT AND OUTPUT VOLTAGE OF THE AMPLIFIERS MUST BEABLE TO ACCOMMODATE 0R8 V, WHICH IS CLOSE TO THE POSITIVE RAIL OF 0 V.  THETLV2372 HAS INPUT AND OUTPUT CAPABILITY ALL THE WAY TO THE SUPPLY RAILSPOTENTIOMETER R2 ZERO PROVIDES A ZERO ADJUSTMENT FOR THE S METER, WHICH ISBUFFERED THROUGH AMPLIFIER U1B.  THE ZERO FUNCTION OPERATES DIFFERENTLYFROM MOST.  DIODE D3 TRANSFORMS THE AMPLIFIER INTO A PRECISION RECTIFIER.THE RESULT IS THAT THE S METER CANNOT BE DRIVEN BELOW ZERO.  THE REASON FORADDING THIS FEATURE IS THAT IF THE VALUE OF C137 SEE FIGURE 1 IS INCREASEDBY A LARGE AMOUNT IN ORDER TO INCREASE THE AGC DECAY TIME AS I DID IN MYRECEIVER, SWITCHING FROM STANDBY TO OPERATE CAN RESULT IN A NEGATIVE METER  END OF 20 WPM TEXT    QST DE W1AW    NOW 20 WPM     TEXT IS FROM JULY 2014 QST  PAGE 85HIS FM SIGNAL ACROSS 14 GRIDS TO CLAIM THE TOP SPOT IN THE SINGLE OPERATOR,FM ONLY CATEGORY.  ART USED ONLY ONE OF THE FOUR BANDS ALLOWED, 144 MHZ,FOR HIS LEADING EFFORT.  LACKING THE CONCENTRATION OF STATIONS TO WORK THATEXISTS IN THE NORTHEAST REGION, THE TEAM OF OPERATORS AT K5QE WORKED HARDTO CLAIM THE THIRD SPOT IN THE LIMITED MULTIOPERATOR CATEGORY FROM THEIREAST TEXAS LOCATION IN THE SOUTH TEXAS SECTION.  THE CREW AT MARSHALLSSTATION RACKED UP 207 MULTIPLIERS SO ALMOST 2X3 OF THEIR 315 CONTACTS WEREIN A UNIQUE MULTIPLIER FOR THEM.  THE MIDWEST WAS ALSO LESS HOSPITABLE TOROVERS BUT WYATT, AC0RA, TEAMED UP WITH BRIAN, KD0LRG TO BRAVE THE COLD ANDCHALLENGING ROAD CONDITIONS.  THEY PILOTED THEIR FOUR BAND STATION THROUGH10 GRIDS TO COMPLETE 328 QSOS, ACHIEVE THIS YEARS TOP MULTIPLIER COUNT  END OF 20 WPM TEXT    QST DE W1AW    NOW 20 WPM    TEXT IS FROM JULY 2014 QST  PAGE 36THAT P9 SHOULD BE ABOUT 100 5V, BUT CHOOSING 50 5V MAKES THE METER ACTIVEAT LOWER SIGNAL LEVELS, AND MEETS THE IARU RECOMMENDATION FOR AN S 9READING.  SETTING 5 DBXS UNIT IS AN OPTION WITH AN S 0 TO S 9 METER RANGETO 45 DB.  HOWEVER, THE REQUIRED GAIN OF THE RECEIVER MAY STILL BE A BITMARGINAL.  MOVING PT TO 67 DBM 100 5V HELPS THIS SITUATION SHOULD YOUCHOOSE A 5 DBXS UNIT SETTING.  THE MOST IMPORTANT CHARACTERISTIC OF THE SMETER IS A CONSISTENT DBXS UNIT VALUE.  NEARLY ALL ON AIR REPORTS ARERELATIVE READINGS COMPARING ANTENNAS OR AMPLIFIERS, SO CONSISTENT DBXS UNITSENSITIVITY OVER THE S 1 TO S 9 RANGE IS OF PRIMARY IMPORTANCE.  BECAUSE P9AND PT CHANGE WITH RECEIVER GAIN, TEMPERATURE, BAND, AND FREQUENCY WITHINTHE FIRST IF, CONSISTENCY OF PT AND P9 IS PRETTY MUCH A PIPE DREAM FOR AN S  END OF 20 WPM TEXT    QST DE W1AW    NOW 20 WPM     TEXT IS FROM JULY 2014 QST  PAGE 85HIS FM SIGNAL ACROSS 14 GRIDS TO CLAIM THE TOP SPOT IN THE SINGLE OPERATOR,FM ONLY CATEGORY.  ART USED ONLY ONE OF THE FOUR BANDS ALLOWED, 144 MHZ,FOR HIS LEADING EFFORT.  LACKING THE CONCENTRATION OF STATIONS TO WORK THATEXISTS IN THE NORTHEAST REGION, THE TEAM OF OPERATORS AT K5QE WORKED HARDTO CLAIM THE THIRD SPOT IN THE LIMITED MULTIOPERATOR CATEGORY FROM THEIREAST TEXAS LOCATION IN THE SOUTH TEXAS SECTION.  THE CREW AT MARSHALLSSTATION RACKED UP 207 MULTIPLIERS SO ALMOST 2X3 OF THEIR 315 CONTACTS WEREIN A UNIQUE MULTIPLIER FOR THEM.  THE MIDWEST WAS ALSO LESS HOSPITABLE TOROVERS BUT WYATT, AC0RA, TEAMED UP WITH BRIAN, KD0LRG TO BRAVE THE COLD ANDCHALLENGING ROAD CONDITIONS.  THEY PILOTED THEIR FOUR BAND STATION THROUGH10 GRIDS TO COMPLETE 328 QSOS, ACHIEVE THIS YEARS TOP MULTIPLIER COUNT  END OF 20 WPM TEXT    QST DE W1AW    NOW 20 WPM     TEXT IS FROM JULY 2014 QST  PAGE 55ANTENNA THE RADIO IS SILENT.  A THAT IS A KEY DISTINCTION, BECAUSE THE CUREIS QUITE DIFFERENT FOR THE TWO CASES.  TO FIND OUT, INSERT, SAY, 10 DB OFATTENUATION IN THE FRONT END OF YOUR RECEIVER MANY TRANSCEIVERS CAN DO THISWITH A FRONT PANEL BUTTON.  IF THE SIGNAL IS COMING FROM OUTSIDE ON THERECEIVE FREQUENCY, IT WILL DROP BY 10 DB, OR ALMOST 2 S UNITS.  IF IT IS ATHIRD ORDER INTERMODULATION PRODUCT GENERATED FROM OFF FREQUENCY SIGNALSMIXING WITHIN YOUR RECEIVER, IT WILL DROP BY 3 X 10 DB OR 5 S UNITS CHECKYOUR S METER CALIBRATION ON A KNOWN SIGNAL IN THE SAME BAND FIRST.  IF ITIS A SIGNAL ON YOUR FREQUENCY, ABOUT THE ONLY HOPE IS ONE OF THE CANCELLINGTYPE NOISE REDUCTION DEVICES, ALTHOUGH YOU MAY GET SOME RELIEF BY TURNINGYOUR BEAM TO A NULL IN THE STATIONS DIRECTION.  YOU ALSO COULD TRY TO  END OF 20 WPM TEXT    QST DE W1AW    NOW 20 WPM     TEXT IS FROM MARCH 2014 QST  PAGE 31DIAMETER WITH A SCREW ON LID.  A STAINLESS STEEL SCREW THROUGH THE TOPSERVES AS AN ANCHOR FOR THE ANTENNA AND IS CONNECTED TO THE INNER LEAD OFAN SO 239 SOCKET AT THE BASE OF THE ABS PIPE SECTION.  THE SHIELD OF THE SO239 IS CONNECTED TO THE GROUND BLOCK WITH HEAVY GAUGE METAL.  THE GROUNDRADIAL SYSTEM IS A CRITICAL PART OF THE ANTENNA.  AS AN INITIAL EXPERIMENTI USED JUST TWO 65 FOOT PIECES OF INSULATED WIRE LAID ON THE GROUND.  I WASABLE TO TUNE THE ANTENNA AND THEY ACTUALLY WORKED QUITE WELL FORCONTINENTAL CONTACTS.  HOWEVER, FOR DX A MORE EXTENSIVE GROUND SYSTEM ISREQUIRED AND AT PRESENT, I HAVE 40 RADIALS, EACH 20 TO 80 FEET LONG,CONNECTED TO THE GROUND JUNCTION BLOCK.  THE RADIALS ARE 15 AWG ZINC COATEDWIRE.  AFTER BURYING THE RADIALS THEY WERE SOON COVERED BY THE SURROUNDING  END OF 20 WPM TEXT    QST DE W1AW    NOW 20 WPM    TEXT IS FROM MARCH 2014 QST  PAGE 91 SUNSPOT NUMBER DID NOT QUITE TRANSLATE INTO THE CME RATE ITSELF.  THE CMEOCCURRENCE RATE IN CYCLES 24 AND 23 ARE COMPARABLE IN THE MAXIMUM PHASE.THEN HOW DO WE UNDERSTAND THE MILD\n"
     ]
    }
   ],
   "source": [
    "# ================================================================\n",
    "#   Use saved model to predict characters from Morse sequence data\n",
    "# ================================================================\n",
    "# \n",
    "NOISE = False\n",
    "\n",
    "saver = tf.train.Saver()\n",
    "\n",
    "testset = Morse(n_samples=10000, max_seq_len=seq_max_len,filename='arrl2.txt')\n",
    "test_data = testset.data\n",
    "if (NOISE): \n",
    "    test_data = test_data +  normal(0.,0.1, 32*10000).reshape(10000,32,1)\n",
    "test_label = testset.labels\n",
    "test_seqlen = testset.seqlen\n",
    " \n",
    "# Later, launch the model, use the saver to restore variables from disk, and\n",
    "# do some work with the model.\n",
    "with tf.Session() as sess:\n",
    "    # Restore variables from disk.\n",
    "    saver.restore(sess, \"/tmp/morse_model.ckpt\")\n",
    "    print(\"Model restored.\")\n",
    "    y_hat = tf.argmax(pred,1)\n",
    "    ch = sess.run(y_hat, feed_dict={x: test_data, y: test_label,seqlen: test_seqlen})\n",
    "    s = ''\n",
    "    for c in ch:\n",
    "        s += testset.decode(c)\n",
    "    print( s)"
   ]
  },
  {
   "cell_type": "code",
   "execution_count": 8,
   "metadata": {},
   "outputs": [
    {
     "name": "stdout",
     "output_type": "stream",
     "text": [
      "NOW 20 WPM TEXT IS FROM JANUARY 2015 QST  PAGE 56 \n"
     ]
    },
    {
     "data": {
      "image/png": "[encoded data removed]",
      "text/plain": [
       "<matplotlib.figure.Figure at 0x136b50b10>"
      ]
     },
     "metadata": {},
     "output_type": "display_data"
    }
   ],
   "source": [
    "\n",
    "# plot 50 first Morse code lines (32 pix each ) and print 50 first labels\n",
    "import matplotlib.pyplot as plt\n",
    "import matplotlib.cm as cm\n",
    "%matplotlib inline\n",
    "import numpy as np\n",
    "from numpy.random import normal\n",
    "\n",
    "xs = np.array(test_data)\n",
    "#xs = np.array(trainset.data)\n",
    "\n",
    "im = xs[:50].reshape(50,32)\n",
    "#im += normal(0,.1,1600).reshape(50,32)\n",
    "plt.figure(figsize=(20,10))\n",
    "plt.imshow(im,cmap = cm.Greys_r)\n",
    "print (s[:50])"
   ]
  },
  {
   "cell_type": "code",
   "execution_count": 9,
   "metadata": {},
   "outputs": [
    {
     "data": {
      "text/plain": [
       "<matplotlib.image.AxesImage at 0x11e4d7590>"
      ]
     },
     "execution_count": 9,
     "metadata": {},
     "output_type": "execute_result"
    },
    {
     "data": {
      "image/png": "[encoded data removed]",
      "text/plain": [
       "<matplotlib.figure.Figure at 0x139ed6190>"
      ]
     },
     "metadata": {},
     "output_type": "display_data"
    }
   ],
   "source": [
    "test_data = testset.data\n",
    "test_data = test_data +  normal(0.,0.2, 32*10000).reshape(10000,32,1)\n",
    "xs = np.array(test_data)\n",
    "im = xs[:50].reshape(50,32)\n",
    "plt.imshow(im,cmap = cm.Greys_r)"
   ]
  },
  {
   "cell_type": "code",
   "execution_count": null,
   "metadata": {},
   "outputs": [],
   "source": []
  }
 ],
 "metadata": {
  "kernelspec": {
   "display_name": "Python 2",
   "language": "python",
   "name": "python2"
  },
  "language_info": {
   "codemirror_mode": {
    "name": "ipython",
    "version": 2
   },
   "file_extension": ".py",
   "mimetype": "text/x-python",
   "name": "python",
   "nbconvert_exporter": "python",
   "pygments_lexer": "ipython2",
   "version": "2.7.10"
  }
 },
 "nbformat": 4,
 "nbformat_minor": 1
}
